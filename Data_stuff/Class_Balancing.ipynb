{
 "cells": [
  {
   "cell_type": "code",
   "execution_count": 3,
   "metadata": {},
   "outputs": [],
   "source": [
    "from Tumor_Classifier_Utils import *"
   ]
  },
  {
   "cell_type": "code",
   "execution_count": 4,
   "metadata": {},
   "outputs": [
    {
     "name": "stdout",
     "output_type": "stream",
     "text": [
      "(2450, 32, 32, 1)\n",
      "(283, 32, 32, 1)\n",
      "(350, 32, 32, 1)\n",
      "(2450, 1)\n",
      "(283, 1)\n",
      "(350, 1)\n"
     ]
    }
   ],
   "source": [
    "data_train = scio.loadmat('Data/tumor_train_data_32.mat')\n",
    "data_val = scio.loadmat('Data/tumor_val_data_32.mat')\n",
    "data_test = scio.loadmat('Data/tumor_test_data_32.mat')\n",
    "\n",
    "N = 32 # image dimensions (N x N after preprocessing)\n",
    "num_classes = 4; # how many different types of classifications we have \n",
    "\n",
    "x_train = np.transpose(data_train['img_train'], (2, 0, 1)).reshape(-1, N, N, 1)\n",
    "y_train = data_train['labels_train']\n",
    "x_val = np.transpose(data_val['img_val'], (2, 0, 1)).reshape(-1, N, N, 1)\n",
    "y_val = data_val['labels_val']\n",
    "x_test = np.transpose(data_test['img_test'], (2, 0, 1)).reshape(-1, N, N, 1)\n",
    "y_test = data_test['labels_test']\n",
    "\n",
    "\n",
    "print(x_train.shape)\n",
    "print(x_test.shape)\n",
    "print(x_val.shape)\n",
    "print(y_train.shape)\n",
    "print(y_test.shape)\n",
    "print(y_val.shape)"
   ]
  },
  {
   "cell_type": "code",
   "execution_count": 8,
   "metadata": {},
   "outputs": [
    {
     "data": {
      "text/plain": [
       "Text(0.5, 1.0, 'Class Balance')"
      ]
     },
     "execution_count": 8,
     "metadata": {},
     "output_type": "execute_result"
    },
    {
     "data": {
      "image/png": "[encoded data removed]",
      "text/plain": [
       "<Figure size 720x360 with 1 Axes>"
      ]
     },
     "metadata": {
      "needs_background": "light"
     },
     "output_type": "display_data"
    }
   ],
   "source": [
    "# Plot of Class Balance\n",
    "fig = plt.figure(figsize=[10, 5])\n",
    "ax = fig.subplots()\n",
    "ax.hist(y_train)\n",
    "ax.set_title('Class Balance')"
   ]
  },
  {
   "cell_type": "code",
   "execution_count": 12,
   "metadata": {},
   "outputs": [
    {
     "name": "stdout",
     "output_type": "stream",
     "text": [
      "350\n",
      "700\n",
      "700\n",
      "700\n"
     ]
    }
   ],
   "source": [
    "print(np.sum(y_train == 0))\n",
    "print(np.sum(y_train == 1))\n",
    "print(np.sum(y_train == 2))\n",
    "print(np.sum(y_train == 3))"
   ]
  },
  {
   "cell_type": "markdown",
   "metadata": {},
   "source": [
    "therefore we need a class balance of {0: 2.0, 1: 1.0, 2: 1.0, 3: 1.0}"
   ]
  }
 ],
 "metadata": {
  "language_info": {
   "name": "python"
  },
  "orig_nbformat": 4
 },
 "nbformat": 4,
 "nbformat_minor": 2
}
