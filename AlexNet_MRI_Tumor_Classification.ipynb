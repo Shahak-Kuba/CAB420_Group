{
 "cells": [
  {
   "cell_type": "code",
   "execution_count": 1,
   "id": "ef2fdf0a",
   "metadata": {},
   "outputs": [],
   "source": [
    "import os\n",
    "# disable tensorflow warnings\n",
    "os.environ['TF_CPP_MIN_LOG_LEVEL'] = '1'\n",
    "\n",
    "# Tensorflow\n",
    "import tensorflow as tf\n",
    "from tensorflow import keras\n",
    "from tensorflow.keras import layers\n",
    "from tensorboard import notebook\n",
    "\n",
    "# Sklearn\n",
    "from sklearn.metrics import confusion_matrix, ConfusionMatrixDisplay\n",
    "from sklearn.metrics import precision_score, recall_score, f1_score, classification_report\n",
    "# function to compute class weights\n",
    "from sklearn.utils import compute_class_weight\n",
    "from sklearn.model_selection import train_test_split\n",
    "\n",
    "#Matplotlib\n",
    "import matplotlib.pyplot as plt\n",
    "\n",
    "# Data management libraries\n",
    "import scipy.io as scio\n",
    "import numpy as np"
   ]
  },
  {
   "cell_type": "code",
   "execution_count": 4,
   "id": "691a58c5",
   "metadata": {},
   "outputs": [],
   "source": [
    "data_train = scio.loadmat('Data/tumor_train_data.mat')\n",
    "data_val = scio.loadmat('Data/tumor_val_data.mat')\n",
    "data_test = scio.loadmat('Data/tumor_test_data.mat')\n",
    "\n",
    "#data_train = scio.loadmat('/content/tumor_train_data.mat')\n",
    "#data_val = scio.loadmat('/content/tumor_val_data.mat')\n",
    "#data_test = scio.loadmat('/content/tumor_test_data.mat')\n",
    "N = 64 # image size (64x64 after preprocessing)"
   ]
  },
  {
   "cell_type": "code",
   "execution_count": 5,
   "id": "df233463",
   "metadata": {},
   "outputs": [],
   "source": [
    "train = np.transpose(data_train['img_train'], (2, 0, 1)).reshape(-1, N, N, 1)\n",
    "train_y = data_train['labels_train']\n",
    "val = np.transpose(data_val['img_val'], (2, 0, 1)).reshape(-1, N, N, 1)\n",
    "val_y = data_val['labels_val']\n",
    "test = np.transpose(data_test['img_test'], (2, 0, 1)).reshape(-1, N, N, 1)\n",
    "test_y = data_test['labels_test']"
   ]
  },
  {
   "cell_type": "code",
   "execution_count": 6,
   "id": "c410724f",
   "metadata": {},
   "outputs": [],
   "source": [
    "classes = ['glioma', 'miningioma', 'no tumour', 'pituitary']\n",
    "num_epochs = 30 # how many training epochs we are doing"
   ]
  },
  {
   "cell_type": "code",
   "execution_count": 7,
   "id": "7a314649",
   "metadata": {},
   "outputs": [],
   "source": [
    "model = keras.models.Sequential([\n",
    "    keras.layers.Conv2D(filters=96, kernel_size=(11,11), strides=(4,4), activation='relu', input_shape=(N,N,1)),\n",
    "    keras.layers.BatchNormalization(),\n",
    "    keras.layers.MaxPool2D(pool_size=(3,3), strides=(2,2), padding=\"same\"),\n",
    "    keras.layers.Conv2D(filters=256, kernel_size=(5,5), strides=(1,1), activation='relu', padding=\"same\"),\n",
    "    keras.layers.BatchNormalization(),\n",
    "    keras.layers.MaxPool2D(pool_size=(3,3), strides=(2,2), padding=\"same\"),\n",
    "    keras.layers.Conv2D(filters=384, kernel_size=(3,3), strides=(1,1), activation='relu', padding=\"same\"),\n",
    "    keras.layers.BatchNormalization(),\n",
    "    keras.layers.Conv2D(filters=384, kernel_size=(3,3), strides=(1,1), activation='relu', padding=\"same\"),\n",
    "    keras.layers.BatchNormalization(),\n",
    "    keras.layers.Conv2D(filters=256, kernel_size=(3,3), strides=(1,1), activation='relu', padding=\"same\"),\n",
    "    keras.layers.BatchNormalization(),\n",
    "    keras.layers.MaxPool2D(pool_size=(3,3), strides=(2,2), padding=\"same\"),\n",
    "    keras.layers.Flatten(),\n",
    "    keras.layers.Dense(4096, activation='relu'),\n",
    "    keras.layers.Dropout(0.5),\n",
    "    keras.layers.Dense(4096, activation='relu'),\n",
    "    keras.layers.Dropout(0.5),\n",
    "    keras.layers.Dense(10, activation='softmax')\n",
    "])"
   ]
  },
  {
   "cell_type": "code",
   "execution_count": 8,
   "id": "a7680743",
   "metadata": {},
   "outputs": [
    {
     "name": "stdout",
     "output_type": "stream",
     "text": [
      "Model: \"sequential\"\n",
      "_________________________________________________________________\n",
      " Layer (type)                Output Shape              Param #   \n",
      "=================================================================\n",
      " conv2d (Conv2D)             (None, 14, 14, 96)        11712     \n",
      "                                                                 \n",
      " batch_normalization (BatchN  (None, 14, 14, 96)       384       \n",
      " ormalization)                                                   \n",
      "                                                                 \n",
      " max_pooling2d (MaxPooling2D  (None, 7, 7, 96)         0         \n",
      " )                                                               \n",
      "                                                                 \n",
      " conv2d_1 (Conv2D)           (None, 7, 7, 256)         614656    \n",
      "                                                                 \n",
      " batch_normalization_1 (Batc  (None, 7, 7, 256)        1024      \n",
      " hNormalization)                                                 \n",
      "                                                                 \n",
      " max_pooling2d_1 (MaxPooling  (None, 4, 4, 256)        0         \n",
      " 2D)                                                             \n",
      "                                                                 \n",
      " conv2d_2 (Conv2D)           (None, 4, 4, 384)         885120    \n",
      "                                                                 \n",
      " batch_normalization_2 (Batc  (None, 4, 4, 384)        1536      \n",
      " hNormalization)                                                 \n",
      "                                                                 \n",
      " conv2d_3 (Conv2D)           (None, 4, 4, 384)         1327488   \n",
      "                                                                 \n",
      " batch_normalization_3 (Batc  (None, 4, 4, 384)        1536      \n",
      " hNormalization)                                                 \n",
      "                                                                 \n",
      " conv2d_4 (Conv2D)           (None, 4, 4, 256)         884992    \n",
      "                                                                 \n",
      " batch_normalization_4 (Batc  (None, 4, 4, 256)        1024      \n",
      " hNormalization)                                                 \n",
      "                                                                 \n",
      " max_pooling2d_2 (MaxPooling  (None, 2, 2, 256)        0         \n",
      " 2D)                                                             \n",
      "                                                                 \n",
      " flatten (Flatten)           (None, 1024)              0         \n",
      "                                                                 \n",
      " dense (Dense)               (None, 4096)              4198400   \n",
      "                                                                 \n",
      " dropout (Dropout)           (None, 4096)              0         \n",
      "                                                                 \n",
      " dense_1 (Dense)             (None, 4096)              16781312  \n",
      "                                                                 \n",
      " dropout_1 (Dropout)         (None, 4096)              0         \n",
      "                                                                 \n",
      " dense_2 (Dense)             (None, 10)                40970     \n",
      "                                                                 \n",
      "=================================================================\n",
      "Total params: 24,750,154\n",
      "Trainable params: 24,747,402\n",
      "Non-trainable params: 2,752\n",
      "_________________________________________________________________\n",
      "Epoch 1/30\n"
     ]
    },
    {
     "name": "stderr",
     "output_type": "stream",
     "text": [
      "C:\\Users\\61424\\AppData\\Local\\Programs\\Python\\Python310\\lib\\site-packages\\keras\\optimizer_v2\\gradient_descent.py:102: UserWarning: The `lr` argument is deprecated, use `learning_rate` instead.\n",
      "  super(SGD, self).__init__(name, **kwargs)\n",
      "C:\\Users\\61424\\AppData\\Local\\Programs\\Python\\Python310\\lib\\site-packages\\tensorflow\\python\\util\\dispatch.py:1082: UserWarning: \"`sparse_categorical_crossentropy` received `from_logits=True`, but the `output` argument was produced by a sigmoid or softmax activation and thus does not represent logits. Was this intended?\"\n",
      "  return dispatch_target(*args, **kwargs)\n"
     ]
    },
    {
     "name": "stdout",
     "output_type": "stream",
     "text": [
      "20/20 [==============================] - 8s 403ms/step - loss: 2.0123 - accuracy: 0.2962 - val_loss: 2.2786 - val_accuracy: 0.2630\n",
      "Epoch 2/30\n",
      "20/20 [==============================] - 8s 418ms/step - loss: 1.5959 - accuracy: 0.3933 - val_loss: 2.2322 - val_accuracy: 0.2630\n",
      "Epoch 3/30\n",
      "20/20 [==============================] - 8s 423ms/step - loss: 1.3423 - accuracy: 0.4734 - val_loss: 2.1729 - val_accuracy: 0.2630\n",
      "Epoch 4/30\n",
      "20/20 [==============================] - 8s 408ms/step - loss: 1.2295 - accuracy: 0.5220 - val_loss: 2.1032 - val_accuracy: 0.2630\n",
      "Epoch 5/30\n",
      "20/20 [==============================] - 8s 406ms/step - loss: 1.1228 - accuracy: 0.5506 - val_loss: 2.0277 - val_accuracy: 0.2630\n",
      "Epoch 6/30\n",
      "20/20 [==============================] - 8s 401ms/step - loss: 1.0366 - accuracy: 0.5904 - val_loss: 1.9547 - val_accuracy: 0.2630\n",
      "Epoch 7/30\n",
      "20/20 [==============================] - 9s 430ms/step - loss: 0.9835 - accuracy: 0.6073 - val_loss: 1.8987 - val_accuracy: 0.2630\n",
      "Epoch 8/30\n",
      "20/20 [==============================] - 8s 418ms/step - loss: 0.8926 - accuracy: 0.6466 - val_loss: 1.8618 - val_accuracy: 0.2630\n",
      "Epoch 9/30\n",
      "20/20 [==============================] - 8s 398ms/step - loss: 0.8312 - accuracy: 0.6696 - val_loss: 1.8572 - val_accuracy: 0.2630\n",
      "Epoch 10/30\n",
      "20/20 [==============================] - 8s 405ms/step - loss: 0.7731 - accuracy: 0.6961 - val_loss: 1.8751 - val_accuracy: 0.2645\n",
      "Epoch 11/30\n",
      "20/20 [==============================] - 8s 402ms/step - loss: 0.7069 - accuracy: 0.7140 - val_loss: 1.9029 - val_accuracy: 0.3073\n",
      "Epoch 12/30\n",
      "20/20 [==============================] - 8s 401ms/step - loss: 0.6805 - accuracy: 0.7354 - val_loss: 1.9596 - val_accuracy: 0.2768\n",
      "Epoch 13/30\n",
      "20/20 [==============================] - 8s 396ms/step - loss: 0.6356 - accuracy: 0.7441 - val_loss: 2.0052 - val_accuracy: 0.2752\n",
      "Epoch 14/30\n",
      "20/20 [==============================] - 8s 406ms/step - loss: 0.5692 - accuracy: 0.7753 - val_loss: 2.1470 - val_accuracy: 0.2217\n",
      "Epoch 15/30\n",
      "20/20 [==============================] - 8s 403ms/step - loss: 0.5266 - accuracy: 0.8008 - val_loss: 2.1737 - val_accuracy: 0.1850\n",
      "Epoch 16/30\n",
      "20/20 [==============================] - 8s 397ms/step - loss: 0.4778 - accuracy: 0.8080 - val_loss: 2.3330 - val_accuracy: 0.1682\n",
      "Epoch 17/30\n",
      "20/20 [==============================] - 8s 400ms/step - loss: 0.4414 - accuracy: 0.8269 - val_loss: 2.3192 - val_accuracy: 0.1911\n",
      "Epoch 18/30\n",
      "20/20 [==============================] - 8s 403ms/step - loss: 0.4091 - accuracy: 0.8427 - val_loss: 2.5149 - val_accuracy: 0.1911\n",
      "Epoch 19/30\n",
      "20/20 [==============================] - 8s 402ms/step - loss: 0.3829 - accuracy: 0.8657 - val_loss: 2.3347 - val_accuracy: 0.2080\n",
      "Epoch 20/30\n",
      "20/20 [==============================] - 8s 410ms/step - loss: 0.3261 - accuracy: 0.8769 - val_loss: 2.3001 - val_accuracy: 0.2492\n",
      "Epoch 21/30\n",
      "20/20 [==============================] - 8s 400ms/step - loss: 0.3232 - accuracy: 0.8882 - val_loss: 2.0564 - val_accuracy: 0.2982\n",
      "Epoch 22/30\n",
      "20/20 [==============================] - 8s 403ms/step - loss: 0.2989 - accuracy: 0.8984 - val_loss: 2.1080 - val_accuracy: 0.3318\n",
      "Epoch 23/30\n",
      "20/20 [==============================] - 8s 405ms/step - loss: 0.2601 - accuracy: 0.9065 - val_loss: 1.8487 - val_accuracy: 0.3318\n",
      "Epoch 24/30\n",
      "20/20 [==============================] - 8s 420ms/step - loss: 0.2330 - accuracy: 0.9265 - val_loss: 1.6623 - val_accuracy: 0.3700\n",
      "Epoch 25/30\n",
      "20/20 [==============================] - 8s 402ms/step - loss: 0.2134 - accuracy: 0.9321 - val_loss: 1.4910 - val_accuracy: 0.4327\n",
      "Epoch 26/30\n",
      "20/20 [==============================] - 8s 396ms/step - loss: 0.1941 - accuracy: 0.9362 - val_loss: 1.2839 - val_accuracy: 0.4893\n",
      "Epoch 27/30\n",
      "20/20 [==============================] - 8s 402ms/step - loss: 0.1749 - accuracy: 0.9489 - val_loss: 1.2557 - val_accuracy: 0.5367\n",
      "Epoch 28/30\n",
      "20/20 [==============================] - 8s 398ms/step - loss: 0.1510 - accuracy: 0.9586 - val_loss: 1.0277 - val_accuracy: 0.6162\n",
      "Epoch 29/30\n",
      "20/20 [==============================] - 8s 404ms/step - loss: 0.1586 - accuracy: 0.9556 - val_loss: 0.8953 - val_accuracy: 0.6621\n",
      "Epoch 30/30\n",
      "20/20 [==============================] - 8s 406ms/step - loss: 0.1427 - accuracy: 0.9566 - val_loss: 0.8565 - val_accuracy: 0.6865\n"
     ]
    }
   ],
   "source": [
    "model.compile(loss=keras.losses.SparseCategoricalCrossentropy(from_logits=True),\n",
    "              optimizer=keras.optimizers.SGD(lr=0.001),\n",
    "              metrics=['accuracy'])\n",
    "model.summary()\n",
    "history = model.fit(train, train_y,\n",
    "                        batch_size=100,\n",
    "                        epochs=num_epochs,\n",
    "                        validation_data=(val, val_y))"
   ]
  },
  {
   "cell_type": "code",
   "execution_count": 9,
   "id": "81e4d216",
   "metadata": {},
   "outputs": [
    {
     "name": "stdout",
     "output_type": "stream",
     "text": [
      "              precision    recall  f1-score   support\n",
      "\n",
      "           0       0.55      0.82      0.66        98\n",
      "           1       0.77      0.69      0.73       192\n",
      "           2       0.92      0.38      0.54       185\n",
      "           3       0.68      0.98      0.80       179\n",
      "\n",
      "    accuracy                           0.70       654\n",
      "   macro avg       0.73      0.72      0.68       654\n",
      "weighted avg       0.75      0.70      0.68       654\n",
      "\n"
     ]
    },
    {
     "data": {
      "image/png": "[encoded data removed]",
      "text/plain": [
       "<Figure size 1440x432 with 3 Axes>"
      ]
     },
     "metadata": {
      "needs_background": "light"
     },
     "output_type": "display_data"
    }
   ],
   "source": [
    "def eval_model(model, history, x_train, y_train, x_test, y_test):\n",
    "\n",
    "    fig = plt.figure(figsize=[20, 6])    \n",
    "\n",
    "    ax = fig.add_subplot(1, 2, 1)\n",
    "    ax.plot(history['loss'], label='Loss')\n",
    "    ax.plot(history['val_loss'], label='Validation Loss')\n",
    "    ax.plot(history['accuracy'], label='Accuracy')\n",
    "    ax.plot(history['val_accuracy'], label='Validation Accuracy')\n",
    "    ax.legend()\n",
    "    \n",
    "    pred = model.predict(x_test);\n",
    "    indexes = tf.argmax(pred, axis=1)\n",
    "    cm = confusion_matrix(y_test, indexes)\n",
    "\n",
    "    ax = fig.add_subplot(1, 2, 2)\n",
    "    c = ConfusionMatrixDisplay(cm, display_labels=range(len(np.unique(y_test))))\n",
    "    c.plot(ax = ax)\n",
    "    \n",
    "    print(classification_report(y_test, indexes))\n",
    "\n",
    "eval_model(model, history.history, train, train_y, test, test_y)"
   ]
  },
  {
   "cell_type": "code",
   "execution_count": null,
   "id": "a41b75f9",
   "metadata": {},
   "outputs": [],
   "source": []
  }
 ],
 "metadata": {
  "kernelspec": {
   "display_name": "Python 3 (ipykernel)",
   "language": "python",
   "name": "python3"
  },
  "language_info": {
   "codemirror_mode": {
    "name": "ipython",
    "version": 3
   },
   "file_extension": ".py",
   "mimetype": "text/x-python",
   "name": "python",
   "nbconvert_exporter": "python",
   "pygments_lexer": "ipython3",
   "version": "3.10.2"
  }
 },
 "nbformat": 4,
 "nbformat_minor": 5
}
