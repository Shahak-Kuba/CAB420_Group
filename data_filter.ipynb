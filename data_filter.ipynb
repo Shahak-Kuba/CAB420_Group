{
 "cells": [
  {
   "cell_type": "code",
   "execution_count": 1,
   "metadata": {},
   "outputs": [],
   "source": [
    "from PIL import Image\n",
    "import glob\n",
    "import os\n",
    "import numpy as np\n",
    "import matplotlib.pyplot as plt\n",
    "import scipy.io as sio\n",
    "import scipy\n",
    "\n",
    "image_list = []\n",
    "sets = ['Testing', 'Training']\n",
    "types = ['glioma_tumor', 'meningioma_tumor', 'no_tumor', 'pituitary_tumor']\n",
    "\n",
    "const_size = 64\n",
    "\n",
    "for set in sets:\n",
    "    for type in types:\n",
    "        #create empty dir\n",
    "        os.makedirs('Processed_Data_' + str(const_size) + '/' + set + '/' + type + '/', exist_ok=True)\n",
    "        counter = 1\n",
    "\n",
    "        for filename in glob.glob('Data/' + set + '/' + type + '/*.jpg'):\n",
    "            \n",
    "            im=Image.open(filename)\n",
    "\n",
    "            #resize to const size\n",
    "            new_im = im.resize((const_size,const_size))\n",
    "\n",
    "            #convert to array\n",
    "            numpy_im = np.array(new_im)\n",
    "\n",
    "            #.mat output in new path\n",
    "            mdic = {\"output\": numpy_im}\n",
    "            sio.savemat('Processed_Data_' + str(const_size) + '/' + set + '/' + type + '/img' + str(counter) + '.mat', mdic)\n",
    "\n",
    "            counter+=1\n",
    "\n"
   ]
  }
 ],
 "metadata": {
  "interpreter": {
   "hash": "e05b0676acc711ba61b1bca6479a0656300cb6092bf1a8a72247870feaf67e85"
  },
  "kernelspec": {
   "display_name": "Python 3.9.10 64-bit",
   "language": "python",
   "name": "python3"
  },
  "language_info": {
   "codemirror_mode": {
    "name": "ipython",
    "version": 3
   },
   "file_extension": ".py",
   "mimetype": "text/x-python",
   "name": "python",
   "nbconvert_exporter": "python",
   "pygments_lexer": "ipython3",
   "version": "3.9.10"
  },
  "orig_nbformat": 4
 },
 "nbformat": 4,
 "nbformat_minor": 2
}
