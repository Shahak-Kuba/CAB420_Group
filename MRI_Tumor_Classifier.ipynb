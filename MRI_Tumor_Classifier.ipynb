{
 "cells": [
  {
   "cell_type": "markdown",
   "id": "b3e89e39",
   "metadata": {},
   "source": [
    "Importing required libraries"
   ]
  },
  {
   "cell_type": "code",
   "execution_count": null,
   "id": "b2eacfe1",
   "metadata": {},
   "outputs": [],
   "source": [
    "import os\n",
    "# disable tensorflow warnings\n",
    "os.environ['TF_CPP_MIN_LOG_LEVEL'] = '1'\n",
    "\n",
    "# Tensorflow\n",
    "import tensorflow as tf\n",
    "from tensorflow import keras\n",
    "from tensorflow.keras import layers\n",
    "from tensorboard import notebook\n",
    "\n",
    "# Sklearn\n",
    "from sklearn.metrics import confusion_matrix, ConfusionMatrixDisplay\n",
    "from sklearn.metrics import precision_score, recall_score, f1_score, classification_report\n",
    "# function to compute class weights\n",
    "from sklearn.utils import compute_class_weight\n",
    "\n",
    "#Matplotlib\n",
    "import matplotlib.pyplot as plt\n",
    "\n",
    "# Data management libraries\n",
    "import scipy.io as scio\n",
    "import numpy as np"
   ]
  },
  {
   "cell_type": "markdown",
   "id": "2c67fe96",
   "metadata": {},
   "source": [
    "Loading in the data"
   ]
  },
  {
   "cell_type": "code",
   "execution_count": null,
   "id": "44c0a661",
   "metadata": {},
   "outputs": [],
   "source": [
    "Training_tumor_data = scio.loadmat(data/Training/...)\n",
    "Testing_tumor_data = scio.loadmat(data/Training/...)\n",
    "\n",
    "N = # Image length\n",
    "M = # Image width\n",
    "num_classes = 4; # how many different types of classifications we have "
   ]
  },
  {
   "cell_type": "markdown",
   "id": "924b573d",
   "metadata": {},
   "source": [
    "Visualisartion of data"
   ]
  },
  {
   "cell_type": "code",
   "execution_count": null,
   "id": "24a69659",
   "metadata": {},
   "outputs": [],
   "source": []
  },
  {
   "cell_type": "markdown",
   "id": "982cbe93",
   "metadata": {},
   "source": [
    "DCNN network"
   ]
  },
  {
   "cell_type": "code",
   "execution_count": null,
   "id": "b14696d2",
   "metadata": {},
   "outputs": [],
   "source": [
    "num_epochs = 10 # how many training epochs we are doing\n",
    "\n",
    "# build model function\n",
    "def build_model(num_classes, output_activation=None):\n",
    "    # Input in an image shape\n",
    "    inputs = keras.Input(shape=(N, M, 1, ), name='img')\n",
    "    \n",
    "    # run pairs of conv layers, all 3s3 kernels\n",
    "    x = layers.Conv2D(filters=8, kernel_size=(3,3), padding='same', activation='relu')(inputs) # consider using alternate activation\n",
    "    x = layers.Conv2D(filters=8, kernel_size=(3,3), padding='same', activation=None)(x)\n",
    "    # batch normalisation, before the non-linearity\n",
    "    x = layers.BatchNormalization()(x)\n",
    "    x = layers.Activation('relu')(x)\n",
    "    # spatial dropout, this will drop whole kernels, i.e. 20% of our 3x3 filters will be dropped out rather\n",
    "    # than dropping out 20% of the invidual pixels\n",
    "    x = layers.SpatialDropout2D(0.2)(x)\n",
    "    # max pooling, 2x2, which will downsample the image\n",
    "    x = layers.MaxPool2D(pool_size=(2, 2))(x)\n",
    "    \n",
    "    # rinse and repeat with 2D convs, batch norm, dropout and max pool\n",
    "    x = layers.Conv2D(filters=16, kernel_size=(3,3), padding='same', activation='relu')(x) # consider using alternate activation\n",
    "    x = layers.Conv2D(filters=16, kernel_size=(3,3), padding='same', activation=None)(x)\n",
    "    x = layers.BatchNormalization()(x)\n",
    "    x = layers.Activation('relu')(x)\n",
    "    x = layers.SpatialDropout2D(0.2)(x)\n",
    "    x = layers.MaxPool2D(pool_size=(2, 2))(x)\n",
    "    \n",
    "    # final conv2d, batch norm and spatial dropout\n",
    "    x = layers.Conv2D(filters=32, kernel_size=(3,3), padding='same', activation='relu')(x) # consider using alternate activation\n",
    "    x = layers.Conv2D(filters=32, kernel_size=(3,3), padding='same', activation=None)(x)\n",
    "    x = layers.BatchNormalization()(x)\n",
    "    x = layers.Activation('relu')(x)\n",
    "    x = layers.SpatialDropout2D(0.2)(x)\n",
    "\n",
    "    # flatten layer\n",
    "    x = layers.Flatten()(x)\n",
    "    \n",
    "    # Neuron setup\n",
    "    x = layers.Dense(256, activation='relu')(x) # consider using alternate activation\n",
    "    x = layers.Dropout(0.5)(x)\n",
    "    x = layers.Dense(64, activation='relu')(x) # consider using alternate activation\n",
    "    \n",
    "    # the output\n",
    "    outputs = layers.Dense(num_classes, activation=output_activation)(x)\n",
    "\n",
    "    # build the model, and print a summary\n",
    "    model_cnn = keras.Model(inputs=inputs, outputs=outputs, name='tumor_classifier_cnn_model')\n",
    "    \n",
    "    return model_cnn"
   ]
  },
  {
   "cell_type": "code",
   "execution_count": null,
   "id": "b0c066cb",
   "metadata": {},
   "outputs": [],
   "source": []
  }
 ],
 "metadata": {
  "kernelspec": {
   "display_name": "Python 3 (ipykernel)",
   "language": "python",
   "name": "python3"
  },
  "language_info": {
   "codemirror_mode": {
    "name": "ipython",
    "version": 3
   },
   "file_extension": ".py",
   "mimetype": "text/x-python",
   "name": "python",
   "nbconvert_exporter": "python",
   "pygments_lexer": "ipython3",
   "version": "3.8.3"
  }
 },
 "nbformat": 4,
 "nbformat_minor": 5
}
